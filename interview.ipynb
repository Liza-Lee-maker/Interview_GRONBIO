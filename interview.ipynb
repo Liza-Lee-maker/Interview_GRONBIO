{
 "cells": [
  {
   "cell_type": "markdown",
   "id": "c0cbe2ef-bca4-498c-afa0-7b37d7b5658c",
   "metadata": {},
   "source": [
    "## 1. 矩阵1和矩阵2每行对应相同样本、信号彼此独立\n",
    "### 每个信号的表达式：y = ax + b"
   ]
  },
  {
   "cell_type": "code",
   "execution_count": 68,
   "id": "b15e8166-0878-435c-a46f-a93eedab59a0",
   "metadata": {},
   "outputs": [
    {
     "name": "stdout",
     "output_type": "stream",
     "text": [
      "校准参数a: [1.1751152073732716, 1.10655737704918, 0.8646616541353379, 1.0516605166051662, -1.1111111111111116]\n",
      "校准参数b: [-0.07603686635944676, -0.5040983606557359, 0.541353383458649, -0.433579335793358, 12.888888888888886]\n",
      "校准后的批次2数据:\n",
      "[[0.98156682 2.04098361 3.04887218 3.98339483 5.        ]\n",
      " [2.03917051 2.92622951 3.91353383 5.03505535 6.        ]\n",
      " [2.97926267 4.03278689 5.03759398 5.98154982 7.        ]]\n"
     ]
    }
   ],
   "source": [
    "import numpy as np\n",
    "\n",
    "# 定义矩阵1和矩阵2\n",
    "matrix1 = np.array([\n",
    "    [1, 2, 3, 4, 5],\n",
    "    [2, 3, 4, 5, 6],\n",
    "    [3, 4, 5, 6, 7]\n",
    "])\n",
    "matrix2 = np.array([\n",
    "    [0.9, 2.3, 2.9, 4.2, 7.1],\n",
    "    [1.8, 3.1, 3.9, 5.2, 6.2],\n",
    "    [2.6, 4.1, 5.2, 6.1, 5.3]\n",
    "])\n",
    "\n",
    "# 获取矩阵形状 n_samples=3， n_signals=5\n",
    "n_samples, n_signals = matrix1.shape\n",
    "\n",
    "# 初始化校准参数和校准后的矩阵\n",
    "a_params = []\n",
    "b_params = []\n",
    "calibrated_matrix2 = np.zeros_like(matrix2)\n",
    "\n",
    "# 逐信号计算校准参数并校准数据\n",
    "for signal_idx in range(n_signals):\n",
    "    # 提取对应信号的数据\n",
    "    x = matrix2[:, signal_idx]\n",
    "    y = matrix1[:, signal_idx]\n",
    "    # 一次方程线性拟合，计算校准参数a，b\n",
    "    a, b = np.polyfit(x, y, 1)\n",
    "    a_params.append(a)\n",
    "    b_params.append(b)\n",
    "    \n",
    "    # 应用校准公式校准批次2数据\n",
    "    calibrated_matrix2[:, signal_idx] = a * x + b\n",
    "\n",
    "# 输出校准参数和校准后的数据\n",
    "print(\"校准参数a:\", a_params)\n",
    "print(\"校准参数b:\", b_params)\n",
    "print(\"校准后的批次2数据:\")\n",
    "print(calibrated_matrix2)"
   ]
  },
  {
   "cell_type": "markdown",
   "id": "7096e5eb-e390-4c65-ba57-0da93837d885",
   "metadata": {},
   "source": [
    "## 2. 矩阵1和矩阵2每行对应不同样本（两次检测用了完全不同的样本）\n",
    "### 利用均值和标准差校准\n",
    "### 校准后的批次2信号 = (批次2信号 − μ2) / σ2 * σ1 + μ1\n",
    "### μ,σ: 每个信号的均值和标准差"
   ]
  },
  {
   "cell_type": "code",
   "execution_count": 51,
   "id": "55b0f23c-ca9e-4398-8cca-88d3a6e70d91",
   "metadata": {},
   "outputs": [
    {
     "name": "stdout",
     "output_type": "stream",
     "text": [
      "批次1信号的均值: [2. 3. 4. 5. 6.]\n",
      "批次1信号的标准差: [0.81649658 0.81649658 0.81649658 0.81649658 0.81649658]\n",
      "批次2信号的均值: [1.76666667 3.16666667 4.         5.16666667 6.2       ]\n",
      "批次2信号的标准差: [0.69442222 0.7363574  0.94162979 0.77602978 0.73484692]\n",
      "校准后的批次2数据:\n",
      "[[0.98097966 2.03901235 3.04617903 3.9829256  7.        ]\n",
      " [2.03919309 2.92607787 3.913289   5.03507153 6.        ]\n",
      " [2.97982725 4.03490978 5.04053196 5.98200287 5.        ]]\n"
     ]
    }
   ],
   "source": [
    "import numpy as np\n",
    "\n",
    "# 定义矩阵1和矩阵2\n",
    "matrix1 = np.array([\n",
    "    [1, 2, 3, 4, 5],\n",
    "    [2, 3, 4, 5, 6],\n",
    "    [3, 4, 5, 6, 7]\n",
    "])\n",
    "matrix2 = np.array([\n",
    "    [0.9, 2.3, 2.9, 4.2, 7.1],\n",
    "    [1.8, 3.1, 3.9, 5.2, 6.2],\n",
    "    [2.6, 4.1, 5.2, 6.1, 5.3]\n",
    "])\n",
    "\n",
    "# 计算每列的均值和标准差\n",
    "mean1 = np.mean(matrix1, axis=0)\n",
    "std1 = np.std(matrix1, axis=0)\n",
    "mean2 = np.mean(matrix2, axis=0)\n",
    "std2 = np.std(matrix2, axis=0)\n",
    "\n",
    "# 校准批次2数据\n",
    "calibrated_matrix2 = (matrix2 - mean2) / std2 * std1 + mean1\n",
    "\n",
    "# 输出校准结果\n",
    "print(\"批次1信号的均值:\", mean1)\n",
    "print(\"批次1信号的标准差:\", std1)\n",
    "print(\"批次2信号的均值:\", mean2)\n",
    "print(\"批次2信号的标准差:\", std2)\n",
    "print(\"校准后的批次2数据:\")\n",
    "print(calibrated_matrix2)"
   ]
  },
  {
   "cell_type": "markdown",
   "id": "a70786c1-1a13-4357-8594-964baf9c59ba",
   "metadata": {},
   "source": [
    "## 3. 矩阵1和矩阵2每行对应不同样本且信号之间相互关联\n",
    "### 假设每个信号之间的关系是线性的，因此找出一个校准矩阵，使得校准后的批次2数据尽量接近批次1数据\n",
    "### 用最小二乘法来找出校准矩阵\n",
    "### 将把matrix2每一列与matrix1的每一列做线性拟合"
   ]
  },
  {
   "cell_type": "code",
   "execution_count": 55,
   "id": "3764c3ef-bd5f-465a-8bd4-d6e9c917e76b",
   "metadata": {},
   "outputs": [
    {
     "name": "stdout",
     "output_type": "stream",
     "text": [
      "批次2到批次1的校准参数：\n",
      "[[ 0.29109633  0.03223406 -0.2266282 ]\n",
      " [ 0.4298127   0.82276796  1.21572321]\n",
      " [ 0.06146037  0.11705364  0.1726469 ]]\n",
      "校准后的批次2数据：\n",
      "[[1.19544653 2.25392847 2.84004284 3.83253891 5.05736267]\n",
      " [1.81433244 3.10463893 3.91095274 5.12780364 5.95040747]\n",
      " [2.43321835 3.9553494  4.98186264 6.42306837 6.84345226]]\n"
     ]
    }
   ],
   "source": [
    "import numpy as np\n",
    "\n",
    "# 定义批次1和批次2的数据\n",
    "matrix1 = np.array([\n",
    "    [1, 2, 3, 4, 5], \n",
    "    [2, 3, 4, 5, 6], \n",
    "    [3, 4, 5, 6, 7]\n",
    "])\n",
    "\n",
    "matrix2 = np.array([\n",
    "    [0.9, 2.3, 2.9, 4.2, 7.1],\n",
    "    [1.8, 3.1, 3.9, 5.2, 6.2],\n",
    "    [2.6, 4.1, 5.2, 6.1, 5.3]\n",
    "])\n",
    "\n",
    "\n",
    "# 计算校准矩阵\n",
    "A = matrix2.T  # 转置，使得每一列代表一个信号\n",
    "B = matrix1.T  # 转置，使得每一列代表一个信号\n",
    "\n",
    "# 使用最小二乘法求解校准系数\n",
    "calibration_matrix, residuals, rank, s = np.linalg.lstsq(A, B, rcond=None)\n",
    "\n",
    "# 输出校准参数\n",
    "print(\"批次2到批次1的校准参数：\")\n",
    "print(calibration_matrix)\n",
    "\n",
    "# 校准批次2数据\n",
    "calibrated_matrix2 = np.dot(A, calibration_matrix)\n",
    "\n",
    "# 输出校准后的批次2数据\n",
    "print(\"校准后的批次2数据：\")\n",
    "print(calibrated_matrix2.T)  # 转置回原始形状\n"
   ]
  },
  {
   "cell_type": "markdown",
   "id": "7dc92771-d1a5-4ddc-b8cd-8029763e3e64",
   "metadata": {},
   "source": [
    "## 4. 统一命名规则后将文件存储到\"/database/interview/\"\n",
    "### 构建命名规则：\n",
    "第一类：面试情况表\n",
    "### 命名规则设定为：<人名>_<创建时间>.txt"
   ]
  },
  {
   "cell_type": "markdown",
   "id": "0d467720-5901-4ffb-abbd-8ca9fb7f14ab",
   "metadata": {},
   "source": [
    "## 4. 统一命名规则后将文件存储到\"/database/interview/\""
   ]
  },
  {
   "cell_type": "code",
   "execution_count": 72,
   "id": "2de84261-11ea-4636-a2cb-defb4ebbeff6",
   "metadata": {},
   "outputs": [
    {
     "name": "stdout",
     "output_type": "stream",
     "text": [
      "/database/interview/interview_人名1.txt\n",
      "/database/interview/主管1/人名1-第二次-202303.txt\n",
      "/database/interview/面试评价/人名2-2022.1.doc\n"
     ]
    }
   ],
   "source": [
    "import shutil\n",
    "from pathlib import Path\n",
    "\n",
    "def process_file(file_path, root_dir, output_dir):\n",
    "    # 将路径转换为 Path 对象，方便处理\n",
    "    file_path = Path(file_path)\n",
    "    root_dir = Path(root_dir)\n",
    "    output_dir = Path(output_dir)\n",
    "    \n",
    "    # 获取文件名和扩展名\n",
    "    file_name, file_extension = file_path.stem, file_path.suffix\n",
    "    \n",
    "    # 将文件后缀改为 .txt\n",
    "    new_file_name = file_name + \".txt\"\n",
    "    \n",
    "    # 替换原始路径中的 root_dir 为 output_dir，并保持后续路径结构不变\n",
    "    relative_path = file_path.relative_to(root_dir)\n",
    "    \n",
    "    # 构建新的文件路径\n",
    "    new_file_path = (output_dir / relative_path).as_posix() # 默认保存为Linux格式\n",
    "    print(new_file_path)\n",
    "    \n",
    "    # 创建目标路径的父目录（如果不存在）\n",
    "    # new_file_path.parent.mkdir(parents=True, exist_ok=True)\n",
    "    \n",
    "    # 复制文件到新的路径\n",
    "    # shutil.copy(file_path, new_file_path.with_suffix(\".txt\"))\n",
    "    \n",
    "    # 输出新文件路径\n",
    "    # print(f\"文件已保存到：{new_file_path.with_suffix('.txt')}\")\n",
    "\n",
    "# 示例文件路径\n",
    "file1 = \"/root/interview_人名1.txt\"\n",
    "file2 = \"/root/主管1/人名1-第二次-202303.txt\"\n",
    "file3 = \"/root/面试评价/人名2-2022.1.doc\"\n",
    "\n",
    "# 原始根目录\n",
    "root_dir = \"/root\"\n",
    "\n",
    "# 输出目录\n",
    "output_dir = \"/database/interview/\"\n",
    "\n",
    "# 处理文件\n",
    "process_file(file1, root_dir, output_dir)\n",
    "process_file(file2, root_dir, output_dir)\n",
    "process_file(file3, root_dir, output_dir)\n"
   ]
  },
  {
   "cell_type": "code",
   "execution_count": null,
   "id": "4af1fce9-9e7a-4249-be66-e5e6b21e9a76",
   "metadata": {},
   "outputs": [],
   "source": []
  }
 ],
 "metadata": {
  "kernelspec": {
   "display_name": "Python 3 (ipykernel)",
   "language": "python",
   "name": "python3"
  },
  "language_info": {
   "codemirror_mode": {
    "name": "ipython",
    "version": 3
   },
   "file_extension": ".py",
   "mimetype": "text/x-python",
   "name": "python",
   "nbconvert_exporter": "python",
   "pygments_lexer": "ipython3",
   "version": "3.12.4"
  }
 },
 "nbformat": 4,
 "nbformat_minor": 5
}
